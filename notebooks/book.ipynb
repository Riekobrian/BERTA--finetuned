{
 "cells": [
  {
   "cell_type": "code",
   "execution_count": 96,
   "metadata": {},
   "outputs": [],
   "source": [
    "import pandas as pd\n",
    "import numpy as np\n",
    "import seaborn as sns\n",
    "import matplotlib.pyplot as plt"
   ]
  },
  {
   "cell_type": "code",
   "execution_count": 105,
   "metadata": {},
   "outputs": [],
   "source": [
    "data=pd.read_csv(\"C:/Users/Ricky/Desktop/MASTERS/DATA SCIENCE for Decision Making-MILE/Sentiment Analysis/cleaned_reviews.csv\")"
   ]
  },
  {
   "cell_type": "code",
   "execution_count": 106,
   "metadata": {},
   "outputs": [],
   "source": [
    "shapes = pd.read_csv('cleaned_reviews.csv')"
   ]
  },
  {
   "cell_type": "code",
   "execution_count": 107,
   "metadata": {},
   "outputs": [
    {
     "name": "stdout",
     "output_type": "stream",
     "text": [
      "      sentiments                                     cleaned_review  \\\n",
      "0       positive  i wish would have gotten one earlier love it a...   \n",
      "1        neutral  i ve learned this lesson again open the packag...   \n",
      "2        neutral          it is so slow and lags find better option   \n",
      "3        neutral  roller ball stopped working within months of m...   \n",
      "4        neutral  i like the color and size but it few days out ...   \n",
      "...          ...                                                ...   \n",
      "17335   positive  i love this speaker and love can take it anywh...   \n",
      "17336   positive  i use it in my house easy to connect and loud ...   \n",
      "17337   positive  the bass is good and the battery is amazing mu...   \n",
      "17338   positive                                            love it   \n",
      "17339    neutral                                       mono speaker   \n",
      "\n",
      "       cleaned_review_length  review_score  \n",
      "0                         19           5.0  \n",
      "1                         88           1.0  \n",
      "2                          9           2.0  \n",
      "3                         12           1.0  \n",
      "4                         21           1.0  \n",
      "...                      ...           ...  \n",
      "17335                     30           5.0  \n",
      "17336                     13           4.0  \n",
      "17337                     41           5.0  \n",
      "17338                      2           5.0  \n",
      "17339                      2           5.0  \n",
      "\n",
      "[17340 rows x 4 columns]\n"
     ]
    }
   ],
   "source": [
    "print(shapes)"
   ]
  },
  {
   "cell_type": "code",
   "execution_count": 108,
   "metadata": {},
   "outputs": [
    {
     "name": "stdout",
     "output_type": "stream",
     "text": [
      "<class 'pandas.core.frame.DataFrame'>\n",
      "RangeIndex: 17340 entries, 0 to 17339\n",
      "Data columns (total 4 columns):\n",
      " #   Column                 Non-Null Count  Dtype  \n",
      "---  ------                 --------------  -----  \n",
      " 0   sentiments             17340 non-null  object \n",
      " 1   cleaned_review         17337 non-null  object \n",
      " 2   cleaned_review_length  17340 non-null  int64  \n",
      " 3   review_score           17340 non-null  float64\n",
      "dtypes: float64(1), int64(1), object(2)\n",
      "memory usage: 542.0+ KB\n",
      "None\n"
     ]
    }
   ],
   "source": [
    "print(data.info())"
   ]
  },
  {
   "cell_type": "code",
   "execution_count": 112,
   "metadata": {},
   "outputs": [
    {
     "name": "stdout",
     "output_type": "stream",
     "text": [
      "Column names in the CSV file:'\n",
      "Index(['sentiments', 'cleaned_review', 'cleaned_review_length',\n",
      "       'review_score'],\n",
      "      dtype='object')\n"
     ]
    }
   ],
   "source": [
    "print(\"Column names in the CSV file:'\")\n",
    "print(data.columns)"
   ]
  },
  {
   "cell_type": "code",
   "execution_count": 109,
   "metadata": {},
   "outputs": [
    {
     "name": "stdout",
     "output_type": "stream",
     "text": [
      "       cleaned_review_length  review_score\n",
      "count           17340.000000  17340.000000\n",
      "mean               30.300461      3.649077\n",
      "std                35.836540      1.673500\n",
      "min                 0.000000      1.000000\n",
      "25%                 9.000000      2.000000\n",
      "50%                20.000000      5.000000\n",
      "75%                38.000000      5.000000\n",
      "max               571.000000      5.000000\n"
     ]
    }
   ],
   "source": [
    "print(data.describe())"
   ]
  },
  {
   "cell_type": "code",
   "execution_count": 113,
   "metadata": {},
   "outputs": [
    {
     "data": {
      "image/png": "[encoded data removed]",
      "text/plain": [
       "<Figure size 432x288 with 1 Axes>"
      ]
     },
     "metadata": {
      "needs_background": "light"
     },
     "output_type": "display_data"
    }
   ],
   "source": [
    "import seaborn\n",
    "sns.histplot(data['sentiments'])\n",
    "plt.show()"
   ]
  },
  {
   "cell_type": "markdown",
   "metadata": {},
   "source": [
    "**Importing the necessary libraries and Modules**"
   ]
  },
  {
   "cell_type": "code",
   "execution_count": 114,
   "metadata": {},
   "outputs": [],
   "source": [
    "import re\n",
    "import nltk\n",
    "from nltk.corpus import stopwords\n",
    "from nltk.tokenize import word_tokenize\n",
    "from nltk.stem import WordNetLemmatizer\n",
    "import tensorflow as tf\n",
    "from sklearn.model_selection import train_test_split\n",
    "from sklearn.preprocessing import LabelEncoder"
   ]
  },
  {
   "cell_type": "markdown",
   "metadata": {},
   "source": [
    "**Getting started with NLTK Resources - DOWNLOADING**"
   ]
  },
  {
   "cell_type": "code",
   "execution_count": 115,
   "metadata": {},
   "outputs": [
    {
     "data": {
      "text/plain": [
       "True"
      ]
     },
     "execution_count": 115,
     "metadata": {},
     "output_type": "execute_result"
    }
   ],
   "source": [
    "nltk.download('punkt', quiet=True)\n",
    "nltk.download('stopwords', quiet=True)\n",
    "nltk.download('wordnet', quiet=True)"
   ]
  },
  {
   "cell_type": "markdown",
   "metadata": {},
   "source": [
    "**Preprocessing class**\n",
    " - - To handle the preprocessinglogic in an organized way"
   ]
  },
  {
   "cell_type": "code",
   "execution_count": 117,
   "metadata": {},
   "outputs": [],
   "source": [
    "class SentimentDataPreprocessor:\n",
    "    def __init__(self, data_path):\n",
    "        \"\"\"\n",
    "        Initialize the preprocessing class.\n",
    "        \"\"\"\n",
    "        nltk.download('punkt', quiet=True)\n",
    "        nltk.download('stopwords', quiet=True)\n",
    "        nltk.download('wordnet', quiet=True)\n",
    "\n",
    "        self.lemmatizer = WordNetLemmatizer()\n",
    "        self.stop_words = set(stopwords.words('english'))\n",
    "        self.raw_data = pd.read_csv(data_path)"
   ]
  },
  {
   "cell_type": "markdown",
   "metadata": {},
   "source": [
    "Defining the clean_text Method\n",
    "- - Cleaning pipeline to prepare the data for modeling"
   ]
  },
  {
   "cell_type": "code",
   "execution_count": null,
   "metadata": {},
   "outputs": [],
   "source": [
    "def preprocess_text(self, text):\n",
    "        \"\"\"\n",
    "        Clean and preprocess a single text entry.\n",
    "        \"\"\"\n",
    "        # Convert to lowercase\n",
    "        text = text.lower()\n",
    "\n",
    "        # Tokenize\n",
    "        tokens = nltk.word_tokenize(text)\n",
    "\n",
    "        # Remove non-alphanumeric tokens and stop words, then lemmatize\n",
    "        cleaned_tokens = [\n",
    "            self.lemmatizer.lemmatize(token) \n",
    "            for token in tokens \n",
    "            if token.isalnum() and token not in self.stop_words\n",
    "        ]\n",
    "        \n",
    "        return ' '.join(cleaned_tokens)"
   ]
  },
  {
   "cell_type": "markdown",
   "metadata": {},
   "source": [
    "Preprocess_data -- Defining the method\n",
    "- - Clen text data, encode labels and spli the dataset for training and testing"
   ]
  },
  {
   "cell_type": "code",
   "execution_count": 120,
   "metadata": {},
   "outputs": [],
   "source": [
    "def preprocess_data(self, text_column, label_column):\n",
    "        \"\"\"\n",
    "        Preprocess text data and split into training and testing sets.\n",
    "        \"\"\"\n",
    "        # Preprocess the text column\n",
    "        self.raw_data['processed_text'] = self.raw_data[text_column].apply(self.preprocess_text)\n",
    "\n",
    "        # Split data into train and test sets\n",
    "        X_train, X_test, y_train, y_test = train_test_split(\n",
    "            self.raw_data['processed_text'], \n",
    "            self.raw_data[label_column], \n",
    "            test_size=0.2, \n",
    "            random_state=42\n",
    "        )\n",
    "        \n",
    "        return {\n",
    "            'train': (X_train, y_train),\n",
    "            'test': (X_test, y_test)\n",
    "        }"
   ]
  },
  {
   "cell_type": "code",
   "execution_count": 78,
   "metadata": {},
   "outputs": [],
   "source": [
    "def preprocess_data(self, text_column, label_column):\n",
    "        \"\"\"\n",
    "        Preprocess text data and split into training and testing sets.\n",
    "        \"\"\"\n",
    "        # Clean the text data\n",
    "        self.raw_data['cleaned_text'] = self.raw_data[text_column].apply(self.clean_text)\n",
    "        \n",
    "        # Encode labels\n",
    "        label_encoder = LabelEncoder()\n",
    "        self.raw_data['encoded_label'] = label_encoder.fit_transform(self.raw_data[label_column])\n",
    "        \n",
    "        # Split data into train and test sets\n",
    "        X_train, X_test, y_train, y_test = train_test_split(\n",
    "            self.raw_data['cleaned_text'], \n",
    "            self.raw_data['encoded_label'], \n",
    "            test_size=0.2, \n",
    "            random_state=42\n",
    "        )\n",
    "        \n",
    "        return {\n",
    "            'train': (X_train, y_train),\n",
    "            'test': (X_test, y_test),\n",
    "            'label_encoder': label_encoder\n",
    "        }\n"
   ]
  },
  {
   "cell_type": "markdown",
   "metadata": {},
   "source": [
    "Creating the tokenizer method\n",
    "- - Fit a tokenozer to text data for use with DPL models"
   ]
  },
  {
   "cell_type": "code",
   "execution_count": 121,
   "metadata": {},
   "outputs": [],
   "source": [
    "def create_tokenizer(self, texts, max_words=5000):\n",
    "        \"\"\"\n",
    "        Create a tokenizer fitted to the text data.\n",
    "        \"\"\"\n",
    "        tokenizer = tf.keras.preprocessing.text.Tokenizer(\n",
    "            num_words=max_words, \n",
    "            oov_token='<OOV>'\n",
    "        )\n",
    "        tokenizer.fit_on_texts(texts)\n",
    "        return tokenizer\n"
   ]
  },
  {
   "cell_type": "markdown",
   "metadata": {},
   "source": [
    "Sequence pad method\n",
    "- - Convert text data into padded sequence suitable for DL models"
   ]
  },
  {
   "cell_type": "code",
   "execution_count": 122,
   "metadata": {},
   "outputs": [],
   "source": [
    "def sequence_pad(self, tokenizer, texts, max_length=100):\n",
    "        \"\"\"\n",
    "        Convert text data into padded sequences.\n",
    "        \"\"\"\n",
    "        sequences = tokenizer.texts_to_sequences(texts)\n",
    "        padded_sequences = tf.keras.preprocessing.sequence.pad_sequences(\n",
    "            sequences, \n",
    "            maxlen=max_length, \n",
    "            padding='post', \n",
    "            truncating='post'\n",
    "        )\n",
    "        return padded_sequences\n"
   ]
  },
  {
   "cell_type": "markdown",
   "metadata": {},
   "source": [
    "Instantiate the preprocessor\n",
    "-  - Instantiate the preprocessor class and load the dataset"
   ]
  },
  {
   "cell_type": "code",
   "execution_count": 123,
   "metadata": {},
   "outputs": [],
   "source": [
    "data_path =  './cleaned_reviews.csv'\n",
    "preprocessor  = SentimentDataPreprocessor(data_path)\n"
   ]
  },
  {
   "cell_type": "code",
   "execution_count": null,
   "metadata": {},
   "outputs": [],
   "source": [
    "# Assuming the cleaned dataset has 'reviews_text' and 'sentiments' columns\n",
    "processed = preprocessor.preprocess_data(text_column='reviews_text', label_column='sentiments')\n",
    "\n",
    "# Train and test splits\n",
    "X_train, y_train = processed['train']\n",
    "X_test, y_test = processed['test']\n"
   ]
  },
  {
   "cell_type": "code",
   "execution_count": 88,
   "metadata": {},
   "outputs": [],
   "source": [
    "data_path = './cleaned_reviews.csv'\n",
    "preprocessor = SentimentDataPreprocessor(data_path)\n"
   ]
  },
  {
   "cell_type": "markdown",
   "metadata": {},
   "source": [
    "Apply text cleaning to the data:encode labels and split the data"
   ]
  },
  {
   "cell_type": "code",
   "execution_count": 127,
   "metadata": {},
   "outputs": [],
   "source": [
    "import pandas as pd\n",
    "import nltk\n",
    "from nltk.corpus import stopwords\n",
    "from nltk.tokenize import word_tokenize\n",
    "from nltk.stem import WordNetLemmatizer\n",
    "from sklearn.model_selection import train_test_split\n",
    "\n",
    "class SentimentDataPreprocessor:\n",
    "    def __init__(self, data_path):\n",
    "        \"\"\"\n",
    "        Initialize the preprocessing class.\n",
    "        \"\"\"\n",
    "        nltk.download('punkt', quiet=True)\n",
    "        nltk.download('stopwords', quiet=True)\n",
    "        nltk.download('wordnet', quiet=True)\n",
    "\n",
    "        self.lemmatizer = WordNetLemmatizer()\n",
    "        self.stop_words = set(stopwords.words('english'))\n",
    "        self.raw_data = pd.read_csv(data_path)\n",
    "\n",
    "    def preprocess_text(self, text):\n",
    "        \"\"\"\n",
    "        Clean and preprocess a single text entry.\n",
    "        \"\"\"\n",
    "        # Convert to lowercase\n",
    "        text = text.lower()\n",
    "\n",
    "        # Tokenize\n",
    "        tokens = word_tokenize(text)\n",
    "\n",
    "        # Remove non-alphanumeric tokens and stop words, then lemmatize\n",
    "        cleaned_tokens = [\n",
    "            self.lemmatizer.lemmatize(token) \n",
    "            for token in tokens \n",
    "            if token.isalnum() and token not in self.stop_words\n",
    "        ]\n",
    "        \n",
    "        return ' '.join(cleaned_tokens)\n",
    "\n",
    "    def preprocess_data(self, text_column, label_column):\n",
    "        \"\"\"\n",
    "        Preprocess text data and split into training and testing sets.\n",
    "        \"\"\"\n",
    "        # Preprocess the text column\n",
    "        self.raw_data['processed_text'] = self.raw_data[text_column].apply(self.preprocess_text)\n",
    "\n",
    "        # Split data into train and test sets\n",
    "        X_train, X_test, y_train, y_test = train_test_split(\n",
    "            self.raw_data['processed_text'], \n",
    "            self.raw_data[label_column], \n",
    "            test_size=0.2, \n",
    "            random_state=42\n",
    "        )\n",
    "        \n",
    "        return {\n",
    "            'train': (X_train, y_train),\n",
    "            'test': (X_test, y_test)\n",
    "        }\n"
   ]
  },
  {
   "cell_type": "code",
   "execution_count": 128,
   "metadata": {},
   "outputs": [],
   "source": [
    "data_path = './cleaned_reviews.csv'\n",
    "preprocessor = SentimentDataPreprocessor(data_path)\n"
   ]
  },
  {
   "cell_type": "code",
   "execution_count": 130,
   "metadata": {},
   "outputs": [],
   "source": [
    "def preprocess_text(self, text):\n",
    "    \"\"\"\n",
    "    Clean and preprocess a single text entry.\n",
    "    \"\"\"\n",
    "    if not isinstance(text, str):\n",
    "        # Return an empty string if the input is not a valid string\n",
    "        return \"\"\n",
    "\n",
    "    # Convert to lowercase\n",
    "    text = text.lower()\n",
    "\n",
    "    # Tokenize\n",
    "    tokens = word_tokenize(text)\n",
    "\n",
    "    # Remove non-alphanumeric tokens and stop words, then lemmatize\n",
    "    cleaned_tokens = [\n",
    "        self.lemmatizer.lemmatize(token)\n",
    "        for token in tokens\n",
    "        if token.isalnum() and token not in self.stop_words\n",
    "    ]\n",
    "    \n",
    "    return ' '.join(cleaned_tokens)\n"
   ]
  },
  {
   "cell_type": "code",
   "execution_count": 132,
   "metadata": {},
   "outputs": [],
   "source": [
    "def preprocess_data(self, text_column, label_column):\n",
    "    \"\"\"\n",
    "    Preprocess text data and split into training and testing sets.\n",
    "    \"\"\"\n",
    "    # Convert all text entries to strings to handle missing values or non-string types\n",
    "    self.raw_data[text_column] = self.raw_data[text_column].astype(str)\n",
    "\n",
    "    # Preprocess the text column\n",
    "    self.raw_data['processed_text'] = self.raw_data[text_column].apply(self.preprocess_text)\n",
    "\n",
    "    # Split data into train and test sets\n",
    "    X_train, X_test, y_train, y_test = train_test_split(\n",
    "        self.raw_data['processed_text'], \n",
    "        self.raw_data[label_column], \n",
    "        test_size=0.2, \n",
    "        random_state=42\n",
    "    )\n",
    "    \n",
    "    return {\n",
    "        'train': (X_train, y_train),\n",
    "        'test': (X_test, y_test)\n",
    "    }\n"
   ]
  },
  {
   "cell_type": "code",
   "execution_count": null,
   "metadata": {},
   "outputs": [],
   "source": [
    "processed = preprocessor.preprocess_data(text_column='cleaned_review', label_column='sentiments')\n",
    "X_train, y_train = processed['train']\n",
    "X_test, y_test = processed['test']\n"
   ]
  },
  {
   "cell_type": "code",
   "execution_count": null,
   "metadata": {},
   "outputs": [],
   "source": [
    "# Preprocess the dataset\n",
    "processed = preprocessor.preprocess_data(text_column='reviews_text', label_column='sentiments')\n",
    "\n",
    "# Access train and test splits\n",
    "X_train, y_train = processed['train']\n",
    "X_test, y_test = processed['test']"
   ]
  }
 ],
 "metadata": {
  "kernelspec": {
   "display_name": "base",
   "language": "python",
   "name": "python3"
  },
  "language_info": {
   "codemirror_mode": {
    "name": "ipython",
    "version": 3
   },
   "file_extension": ".py",
   "mimetype": "text/x-python",
   "name": "python",
   "nbconvert_exporter": "python",
   "pygments_lexer": "ipython3",
   "version": "3.9.7"
  }
 },
 "nbformat": 4,
 "nbformat_minor": 2
}
